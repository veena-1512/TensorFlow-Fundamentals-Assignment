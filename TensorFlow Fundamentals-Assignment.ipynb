{
 "cells": [
  {
   "cell_type": "markdown",
   "id": "225c2035-c77b-4ab3-b0af-89b87cff4fc3",
   "metadata": {},
   "source": [
    "                             Part 1: Theoretical Queltionk"
   ]
  },
  {
   "cell_type": "markdown",
   "id": "8a43a26c-83bb-4666-8805-8015e8a2234a",
   "metadata": {},
   "source": [
    "Q1.  What are the different data structures used in Tensorflow?. Give some examples.\n",
    "\n",
    "TensorFlow, being a powerful framework for building and training machine learning models, relies on various data structures to handle data efficiently. Some of the key data structures used in TensorFlow include:\n",
    "\n",
    "Tensors: Tensors are the fundamental data structures in TensorFlow. They are multi-dimensional arrays used to represent data of various types, including scalars, vectors, and matrices. Tensors are immutable, meaning their values cannot be changed once they are created.\n",
    "\n",
    "Examples:- \n"
   ]
  },
  {
   "cell_type": "code",
   "execution_count": 2,
   "id": "bb4d320b-0d48-48e0-baae-e3b221ffa66a",
   "metadata": {},
   "outputs": [
    {
     "name": "stdout",
     "output_type": "stream",
     "text": [
      "Collecting tensorflow\n",
      "  Downloading tensorflow-2.15.0.post1-cp310-cp310-manylinux_2_17_x86_64.manylinux2014_x86_64.whl (475.2 MB)\n",
      "\u001b[2K     \u001b[90m━━━━━━━━━━━━━━━━━━━━━━━━━━━━━━━━━━━━━━━\u001b[0m \u001b[32m475.2/475.2 MB\u001b[0m \u001b[31m3.3 MB/s\u001b[0m eta \u001b[36m0:00:00\u001b[0m00:01\u001b[0m00:01\u001b[0m\n",
      "\u001b[?25hCollecting opt-einsum>=2.3.2\n",
      "  Downloading opt_einsum-3.3.0-py3-none-any.whl (65 kB)\n",
      "\u001b[2K     \u001b[90m━━━━━━━━━━━━━━━━━━━━━━━━━━━━━━━━━━━━━━━━\u001b[0m \u001b[32m65.5/65.5 kB\u001b[0m \u001b[31m12.5 MB/s\u001b[0m eta \u001b[36m0:00:00\u001b[0m\n",
      "\u001b[?25hCollecting tensorboard<2.16,>=2.15\n",
      "  Downloading tensorboard-2.15.1-py3-none-any.whl (5.5 MB)\n",
      "\u001b[2K     \u001b[90m━━━━━━━━━━━━━━━━━━━━━━━━━━━━━━━━━━━━━━━━\u001b[0m \u001b[32m5.5/5.5 MB\u001b[0m \u001b[31m75.1 MB/s\u001b[0m eta \u001b[36m0:00:00\u001b[0m:00:01\u001b[0m00:01\u001b[0m\n",
      "\u001b[?25hCollecting flatbuffers>=23.5.26\n",
      "  Downloading flatbuffers-23.5.26-py2.py3-none-any.whl (26 kB)\n",
      "Collecting ml-dtypes~=0.2.0\n",
      "  Downloading ml_dtypes-0.2.0-cp310-cp310-manylinux_2_17_x86_64.manylinux2014_x86_64.whl (1.0 MB)\n",
      "\u001b[2K     \u001b[90m━━━━━━━━━━━━━━━━━━━━━━━━━━━━━━━━━━━━━━━━\u001b[0m \u001b[32m1.0/1.0 MB\u001b[0m \u001b[31m64.7 MB/s\u001b[0m eta \u001b[36m0:00:00\u001b[0m\n",
      "\u001b[?25hCollecting keras<2.16,>=2.15.0\n",
      "  Downloading keras-2.15.0-py3-none-any.whl (1.7 MB)\n",
      "\u001b[2K     \u001b[90m━━━━━━━━━━━━━━━━━━━━━━━━━━━━━━━━━━━━━━━━\u001b[0m \u001b[32m1.7/1.7 MB\u001b[0m \u001b[31m72.4 MB/s\u001b[0m eta \u001b[36m0:00:00\u001b[0m\n",
      "\u001b[?25hRequirement already satisfied: typing-extensions>=3.6.6 in /opt/conda/lib/python3.10/site-packages (from tensorflow) (4.4.0)\n",
      "Collecting google-pasta>=0.1.1\n",
      "  Downloading google_pasta-0.2.0-py3-none-any.whl (57 kB)\n",
      "\u001b[2K     \u001b[90m━━━━━━━━━━━━━━━━━━━━━━━━━━━━━━━━━━━━━━━━\u001b[0m \u001b[32m57.5/57.5 kB\u001b[0m \u001b[31m11.9 MB/s\u001b[0m eta \u001b[36m0:00:00\u001b[0m\n",
      "\u001b[?25hCollecting absl-py>=1.0.0\n",
      "  Downloading absl_py-2.1.0-py3-none-any.whl (133 kB)\n",
      "\u001b[2K     \u001b[90m━━━━━━━━━━━━━━━━━━━━━━━━━━━━━━━━━━━━━━\u001b[0m \u001b[32m133.7/133.7 kB\u001b[0m \u001b[31m23.1 MB/s\u001b[0m eta \u001b[36m0:00:00\u001b[0m\n",
      "\u001b[?25hRequirement already satisfied: setuptools in /opt/conda/lib/python3.10/site-packages (from tensorflow) (65.5.1)\n",
      "Collecting tensorflow-io-gcs-filesystem>=0.23.1\n",
      "  Downloading tensorflow_io_gcs_filesystem-0.36.0-cp310-cp310-manylinux_2_17_x86_64.manylinux2014_x86_64.whl (5.1 MB)\n",
      "\u001b[2K     \u001b[90m━━━━━━━━━━━━━━━━━━━━━━━━━━━━━━━━━━━━━━━━\u001b[0m \u001b[32m5.1/5.1 MB\u001b[0m \u001b[31m74.5 MB/s\u001b[0m eta \u001b[36m0:00:00\u001b[0mta \u001b[36m0:00:01\u001b[0m\n",
      "\u001b[?25hCollecting tensorflow-estimator<2.16,>=2.15.0\n",
      "  Downloading tensorflow_estimator-2.15.0-py2.py3-none-any.whl (441 kB)\n",
      "\u001b[2K     \u001b[90m━━━━━━━━━━━━━━━━━━━━━━━━━━━━━━━━━━━━━━\u001b[0m \u001b[32m442.0/442.0 kB\u001b[0m \u001b[31m45.7 MB/s\u001b[0m eta \u001b[36m0:00:00\u001b[0m\n",
      "\u001b[?25hCollecting termcolor>=1.1.0\n",
      "  Downloading termcolor-2.4.0-py3-none-any.whl (7.7 kB)\n",
      "Collecting libclang>=13.0.0\n",
      "  Downloading libclang-16.0.6-py2.py3-none-manylinux2010_x86_64.whl (22.9 MB)\n",
      "\u001b[2K     \u001b[90m━━━━━━━━━━━━━━━━━━━━━━━━━━━━━━━━━━━━━━━━\u001b[0m \u001b[32m22.9/22.9 MB\u001b[0m \u001b[31m56.6 MB/s\u001b[0m eta \u001b[36m0:00:00\u001b[0m00:01\u001b[0m00:01\u001b[0m\n",
      "\u001b[?25hCollecting gast!=0.5.0,!=0.5.1,!=0.5.2,>=0.2.1\n",
      "  Downloading gast-0.5.4-py3-none-any.whl (19 kB)\n",
      "Requirement already satisfied: packaging in /opt/conda/lib/python3.10/site-packages (from tensorflow) (22.0)\n",
      "Collecting grpcio<2.0,>=1.24.3\n",
      "  Downloading grpcio-1.60.1-cp310-cp310-manylinux_2_17_x86_64.manylinux2014_x86_64.whl (5.4 MB)\n",
      "\u001b[2K     \u001b[90m━━━━━━━━━━━━━━━━━━━━━━━━━━━━━━━━━━━━━━━━\u001b[0m \u001b[32m5.4/5.4 MB\u001b[0m \u001b[31m75.0 MB/s\u001b[0m eta \u001b[36m0:00:00\u001b[0m:00:01\u001b[0m00:01\u001b[0m\n",
      "\u001b[?25hRequirement already satisfied: numpy<2.0.0,>=1.23.5 in /opt/conda/lib/python3.10/site-packages (from tensorflow) (1.23.5)\n",
      "Requirement already satisfied: h5py>=2.9.0 in /opt/conda/lib/python3.10/site-packages (from tensorflow) (3.7.0)\n",
      "Collecting astunparse>=1.6.0\n",
      "  Downloading astunparse-1.6.3-py2.py3-none-any.whl (12 kB)\n",
      "Collecting wrapt<1.15,>=1.11.0\n",
      "  Downloading wrapt-1.14.1-cp310-cp310-manylinux_2_5_x86_64.manylinux1_x86_64.manylinux_2_17_x86_64.manylinux2014_x86_64.whl (77 kB)\n",
      "\u001b[2K     \u001b[90m━━━━━━━━━━━━━━━━━━━━━━━━━━━━━━━━━━━━━━━━\u001b[0m \u001b[32m77.9/77.9 kB\u001b[0m \u001b[31m13.9 MB/s\u001b[0m eta \u001b[36m0:00:00\u001b[0m\n",
      "\u001b[?25hRequirement already satisfied: six>=1.12.0 in /opt/conda/lib/python3.10/site-packages (from tensorflow) (1.16.0)\n",
      "Requirement already satisfied: protobuf!=4.21.0,!=4.21.1,!=4.21.2,!=4.21.3,!=4.21.4,!=4.21.5,<5.0.0dev,>=3.20.3 in /opt/conda/lib/python3.10/site-packages (from tensorflow) (4.21.11)\n",
      "Requirement already satisfied: wheel<1.0,>=0.23.0 in /opt/conda/lib/python3.10/site-packages (from astunparse>=1.6.0->tensorflow) (0.38.4)\n",
      "Collecting google-auth-oauthlib<2,>=0.5\n",
      "  Downloading google_auth_oauthlib-1.2.0-py2.py3-none-any.whl (24 kB)\n",
      "Collecting google-auth<3,>=1.6.3\n",
      "  Downloading google_auth-2.27.0-py2.py3-none-any.whl (186 kB)\n",
      "\u001b[2K     \u001b[90m━━━━━━━━━━━━━━━━━━━━━━━━━━━━━━━━━━━━━━\u001b[0m \u001b[32m186.8/186.8 kB\u001b[0m \u001b[31m28.9 MB/s\u001b[0m eta \u001b[36m0:00:00\u001b[0m\n",
      "\u001b[?25hCollecting tensorboard-data-server<0.8.0,>=0.7.0\n",
      "  Downloading tensorboard_data_server-0.7.2-py3-none-manylinux_2_31_x86_64.whl (6.6 MB)\n",
      "\u001b[2K     \u001b[90m━━━━━━━━━━━━━━━━━━━━━━━━━━━━━━━━━━━━━━━━\u001b[0m \u001b[32m6.6/6.6 MB\u001b[0m \u001b[31m83.5 MB/s\u001b[0m eta \u001b[36m0:00:00\u001b[0m:00:01\u001b[0m00:01\u001b[0m\n",
      "\u001b[?25hRequirement already satisfied: requests<3,>=2.21.0 in /opt/conda/lib/python3.10/site-packages (from tensorboard<2.16,>=2.15->tensorflow) (2.28.1)\n",
      "Collecting werkzeug>=1.0.1\n",
      "  Downloading werkzeug-3.0.1-py3-none-any.whl (226 kB)\n",
      "\u001b[2K     \u001b[90m━━━━━━━━━━━━━━━━━━━━━━━━━━━━━━━━━━━━━━\u001b[0m \u001b[32m226.7/226.7 kB\u001b[0m \u001b[31m32.9 MB/s\u001b[0m eta \u001b[36m0:00:00\u001b[0m\n",
      "\u001b[?25hCollecting markdown>=2.6.8\n",
      "  Downloading Markdown-3.5.2-py3-none-any.whl (103 kB)\n",
      "\u001b[2K     \u001b[90m━━━━━━━━━━━━━━━━━━━━━━━━━━━━━━━━━━━━━━\u001b[0m \u001b[32m103.9/103.9 kB\u001b[0m \u001b[31m17.9 MB/s\u001b[0m eta \u001b[36m0:00:00\u001b[0m\n",
      "\u001b[?25hCollecting rsa<5,>=3.1.4\n",
      "  Downloading rsa-4.9-py3-none-any.whl (34 kB)\n",
      "Collecting pyasn1-modules>=0.2.1\n",
      "  Downloading pyasn1_modules-0.3.0-py2.py3-none-any.whl (181 kB)\n",
      "\u001b[2K     \u001b[90m━━━━━━━━━━━━━━━━━━━━━━━━━━━━━━━━━━━━━━\u001b[0m \u001b[32m181.3/181.3 kB\u001b[0m \u001b[31m11.0 MB/s\u001b[0m eta \u001b[36m0:00:00\u001b[0m\n",
      "\u001b[?25hCollecting cachetools<6.0,>=2.0.0\n",
      "  Downloading cachetools-5.3.2-py3-none-any.whl (9.3 kB)\n",
      "Collecting requests-oauthlib>=0.7.0\n",
      "  Downloading requests_oauthlib-1.3.1-py2.py3-none-any.whl (23 kB)\n",
      "Requirement already satisfied: urllib3<1.27,>=1.21.1 in /opt/conda/lib/python3.10/site-packages (from requests<3,>=2.21.0->tensorboard<2.16,>=2.15->tensorflow) (1.26.13)\n",
      "Requirement already satisfied: idna<4,>=2.5 in /opt/conda/lib/python3.10/site-packages (from requests<3,>=2.21.0->tensorboard<2.16,>=2.15->tensorflow) (3.4)\n",
      "Requirement already satisfied: charset-normalizer<3,>=2 in /opt/conda/lib/python3.10/site-packages (from requests<3,>=2.21.0->tensorboard<2.16,>=2.15->tensorflow) (2.1.1)\n",
      "Requirement already satisfied: certifi>=2017.4.17 in /opt/conda/lib/python3.10/site-packages (from requests<3,>=2.21.0->tensorboard<2.16,>=2.15->tensorflow) (2022.12.7)\n",
      "Requirement already satisfied: MarkupSafe>=2.1.1 in /opt/conda/lib/python3.10/site-packages (from werkzeug>=1.0.1->tensorboard<2.16,>=2.15->tensorflow) (2.1.1)\n",
      "Collecting pyasn1<0.6.0,>=0.4.6\n",
      "  Downloading pyasn1-0.5.1-py2.py3-none-any.whl (84 kB)\n",
      "\u001b[2K     \u001b[90m━━━━━━━━━━━━━━━━━━━━━━━━━━━━━━━━━━━━━━━━\u001b[0m \u001b[32m84.9/84.9 kB\u001b[0m \u001b[31m16.2 MB/s\u001b[0m eta \u001b[36m0:00:00\u001b[0m\n",
      "\u001b[?25hRequirement already satisfied: oauthlib>=3.0.0 in /opt/conda/lib/python3.10/site-packages (from requests-oauthlib>=0.7.0->google-auth-oauthlib<2,>=0.5->tensorboard<2.16,>=2.15->tensorflow) (3.2.2)\n",
      "Installing collected packages: libclang, flatbuffers, wrapt, werkzeug, termcolor, tensorflow-io-gcs-filesystem, tensorflow-estimator, tensorboard-data-server, pyasn1, opt-einsum, ml-dtypes, markdown, keras, grpcio, google-pasta, gast, cachetools, astunparse, absl-py, rsa, requests-oauthlib, pyasn1-modules, google-auth, google-auth-oauthlib, tensorboard, tensorflow\n",
      "Successfully installed absl-py-2.1.0 astunparse-1.6.3 cachetools-5.3.2 flatbuffers-23.5.26 gast-0.5.4 google-auth-2.27.0 google-auth-oauthlib-1.2.0 google-pasta-0.2.0 grpcio-1.60.1 keras-2.15.0 libclang-16.0.6 markdown-3.5.2 ml-dtypes-0.2.0 opt-einsum-3.3.0 pyasn1-0.5.1 pyasn1-modules-0.3.0 requests-oauthlib-1.3.1 rsa-4.9 tensorboard-2.15.1 tensorboard-data-server-0.7.2 tensorflow-2.15.0.post1 tensorflow-estimator-2.15.0 tensorflow-io-gcs-filesystem-0.36.0 termcolor-2.4.0 werkzeug-3.0.1 wrapt-1.14.1\n"
     ]
    }
   ],
   "source": [
    "!pip install tensorflow"
   ]
  },
  {
   "cell_type": "code",
   "execution_count": 4,
   "id": "e9db9887-0586-40af-b6d0-1b173522701a",
   "metadata": {},
   "outputs": [
    {
     "name": "stdout",
     "output_type": "stream",
     "text": [
      "tf.Tensor(\n",
      "[[1 2 3]\n",
      " [4 5 6]], shape=(2, 3), dtype=int32)\n"
     ]
    }
   ],
   "source": [
    "\n",
    "import tensorflow as tf\n",
    "\n",
    "# Creating a tensor\n",
    "tensor = tf.constant([[1, 2, 3], [4, 5, 6]])\n",
    "\n",
    "print(tensor)"
   ]
  },
  {
   "cell_type": "markdown",
   "id": "2fd2c11c-502d-440a-8693-8c58d35a32de",
   "metadata": {},
   "source": [
    "2. Variables: Variables are mutable tensors that are used to hold and update the parameters of a model during training. They are typically used to store weights and biases.\n",
    "\n",
    "Example:"
   ]
  },
  {
   "cell_type": "code",
   "execution_count": 5,
   "id": "e5200fed-9851-4057-87c7-e9cbd9f5d36f",
   "metadata": {},
   "outputs": [
    {
     "name": "stdout",
     "output_type": "stream",
     "text": [
      "<tf.Variable 'Variable:0' shape=(2, 2) dtype=int32, numpy=\n",
      "array([[1, 2],\n",
      "       [3, 4]], dtype=int32)>\n"
     ]
    }
   ],
   "source": [
    "variable = tf.Variable([[1, 2], [3, 4]])\n",
    "\n",
    "print (variable)"
   ]
  },
  {
   "cell_type": "markdown",
   "id": "364d3c0a-b0cc-45a5-b788-6639003374d2",
   "metadata": {},
   "source": [
    "3. Datasets: TensorFlow provides the tf.data.Dataset API to represent data input pipelines. Datasets allow efficient reading, preprocessing, and batching of data during training.\n",
    "\n",
    "Example:"
   ]
  },
  {
   "cell_type": "code",
   "execution_count": 6,
   "id": "2e7e9bc9-1e95-413e-a294-b4e045e5869d",
   "metadata": {},
   "outputs": [
    {
     "name": "stdout",
     "output_type": "stream",
     "text": [
      "<_TensorSliceDataset element_spec=TensorSpec(shape=(), dtype=tf.int32, name=None)>\n"
     ]
    }
   ],
   "source": [
    "dataset = tf.data.Dataset.from_tensor_slices([1, 2, 3, 4, 5])\n",
    "\n",
    "print(dataset)"
   ]
  },
  {
   "cell_type": "markdown",
   "id": "f269ebfc-4ff2-41ab-a663-6567cc0fcb86",
   "metadata": {},
   "source": [
    "4. Sparse Tensors: Sparse tensors are used to efficiently represent tensors with a large number of zero values. They store only the non-zero values along with their indices.\n",
    "\n",
    "Example:"
   ]
  },
  {
   "cell_type": "markdown",
   "id": "61905297-96d5-4de5-aad7-caffc887b9c3",
   "metadata": {},
   "source": [
    "Q2. How does the TensorFlow constant differ from a TensorFlow variable? Explain with an examples."
   ]
  },
  {
   "cell_type": "markdown",
   "id": "517d4b14-867f-40dd-9b18-086c97289826",
   "metadata": {},
   "source": [
    "In TensorFlow, constants and variables are both used to store data, but they have different characteristics and purposes.\n",
    "\n",
    "1. TensorFlow Constant:\n",
    "\n",
    "Constants are tensors whose values cannot be changed once defined.\n",
    "\n",
    "They are typically used to hold fixed data such as hyperparameters, configuration values, or input data that remains constant throughout the execution of a TensorFlow graph.\n",
    "\n",
    "Constants are immutable, meaning their values remain fixed throughout the execution.\n",
    "\n",
    "Example:"
   ]
  },
  {
   "cell_type": "code",
   "execution_count": 7,
   "id": "fe6748bf-0e82-4cc9-b061-6525b2cd6cbc",
   "metadata": {},
   "outputs": [],
   "source": [
    "import tensorflow as tf\n",
    "\n",
    "# Define a constant\n",
    "const = tf.constant(3.0)"
   ]
  },
  {
   "cell_type": "code",
   "execution_count": 8,
   "id": "df9a2c3b-a0fd-4b90-9d8e-111428fa283a",
   "metadata": {},
   "outputs": [
    {
     "data": {
      "text/plain": [
       "<tf.Tensor: shape=(), dtype=float32, numpy=3.0>"
      ]
     },
     "execution_count": 8,
     "metadata": {},
     "output_type": "execute_result"
    }
   ],
   "source": [
    "const"
   ]
  },
  {
   "cell_type": "markdown",
   "id": "4c421e05-8e28-4d86-8898-9769f9408b30",
   "metadata": {},
   "source": [
    "2. TensorFlow Variable:\n",
    "\n",
    "Variables are tensors whose values can be changed during the execution of a TensorFlow graph.\n",
    "\n",
    "They are typically used to hold model parameters that need to be optimized during training, such as weights and biases in neural networks.\n",
    "\n",
    "Variables are mutable, meaning their values can be updated during the execution, making them suitable for optimization algorithms like gradient descent.\n",
    "\n",
    "Example:"
   ]
  },
  {
   "cell_type": "code",
   "execution_count": 9,
   "id": "d406c6d6-e23c-4662-bf6a-01251a2b5883",
   "metadata": {},
   "outputs": [
    {
     "data": {
      "text/plain": [
       "<tf.Variable 'UnreadVariable' shape=() dtype=float32, numpy=4.0>"
      ]
     },
     "execution_count": 9,
     "metadata": {},
     "output_type": "execute_result"
    }
   ],
   "source": [
    "var = tf.Variable(3.0)\n",
    "\n",
    "# Assign a new value to the variable\n",
    "var.assign(4.0)"
   ]
  },
  {
   "cell_type": "markdown",
   "id": "5d2dda0e-ba61-48cf-812d-3a7785b9e2cd",
   "metadata": {},
   "source": [
    "Q3. Describe the process of matrix addition, multiplication, and element-wise operations in TensorFlow."
   ]
  },
  {
   "cell_type": "markdown",
   "id": "5dd30a1c-4bed-42e1-b406-0e47cfd791e2",
   "metadata": {},
   "source": [
    "\n",
    "In TensorFlow, matrix addition, multiplication, and element-wise operations can be performed using tensors. Here's how each operation is performed:\n",
    "\n",
    "1. Matrix Addition:\n",
    "    \n",
    "Matrix addition involves adding corresponding elements of two matrices of the same shape.\n",
    "\n",
    "Example:"
   ]
  },
  {
   "cell_type": "code",
   "execution_count": 13,
   "id": "e9f6427b-58c9-4d1b-8a26-60f7e0faa6f0",
   "metadata": {},
   "outputs": [
    {
     "name": "stdout",
     "output_type": "stream",
     "text": [
      "[[ 6  8]\n",
      " [10 12]]\n"
     ]
    }
   ],
   "source": [
    "import tensorflow as tf\n",
    "\n",
    "matrix1 = tf.constant([[1, 2], [3, 4]])\n",
    "matrix2 = tf.constant([[5, 6], [7, 8]])\n",
    "\n",
    "# Perform matrix addition\n",
    "result = tf.add(matrix1, matrix2)\n",
    "\n",
    "print(result.numpy())  # Print the result"
   ]
  },
  {
   "cell_type": "code",
   "execution_count": null,
   "id": "e40b084e-ef4e-4e8b-9de0-0e6587d651b4",
   "metadata": {},
   "outputs": [],
   "source": [
    "2. Matrix Multiplication:\n",
    "    \n",
    "Matrix multiplication involves multiplying rows of the first matrix with columns of the second matrix to produce a new matrix.\n",
    "\n",
    "Example:"
   ]
  },
  {
   "cell_type": "code",
   "execution_count": 15,
   "id": "e7bff002-cbd0-4bc4-ab74-4639e391fda4",
   "metadata": {},
   "outputs": [
    {
     "name": "stdout",
     "output_type": "stream",
     "text": [
      "[[19 22]\n",
      " [43 50]]\n"
     ]
    }
   ],
   "source": [
    "matrix1 = tf.constant([[1, 2], [3, 4]])\n",
    "matrix2 = tf.constant([[5, 6], [7, 8]])\n",
    "\n",
    "# Perform matrix addition\n",
    "result = tf.matmul(matrix1, matrix2)\n",
    "\n",
    "print(result.numpy())  # Print the result"
   ]
  },
  {
   "cell_type": "markdown",
   "id": "c4cd7530-ace3-4fbb-a8bd-ea6bd0179540",
   "metadata": {},
   "source": [
    "3. Element-wise Operations:\n",
    "\n",
    "    Element-wise operations involve performing operations on corresponding elements of two tensors of the same shape.\n",
    "\n",
    "Example:"
   ]
  },
  {
   "cell_type": "code",
   "execution_count": 16,
   "id": "d4a24fc2-32cf-4555-a241-1300612fa51b",
   "metadata": {},
   "outputs": [
    {
     "name": "stdout",
     "output_type": "stream",
     "text": [
      "[[ 6  8]\n",
      " [10 12]]\n",
      "[[ 5 12]\n",
      " [21 32]]\n"
     ]
    }
   ],
   "source": [
    "import tensorflow as tf\n",
    "\n",
    "tensor1 = tf.constant([[1, 2], [3, 4]])\n",
    "tensor2 = tf.constant([[5, 6], [7, 8]])\n",
    "\n",
    "# Perform element-wise addition\n",
    "add_result = tf.add(tensor1, tensor2)\n",
    "\n",
    "# Perform element-wise multiplication\n",
    "multiply_result = tf.multiply(tensor1, tensor2)\n",
    "\n",
    "print(add_result.numpy())      \n",
    "print(multiply_result.numpy())"
   ]
  },
  {
   "cell_type": "markdown",
   "id": "1f557859-adfe-4a1c-9aa0-7b376160e956",
   "metadata": {},
   "source": [
    "                            Part 2: Practical Implementation"
   ]
  },
  {
   "cell_type": "markdown",
   "id": "b2a1c15c-5d36-410e-af17-85723990c513",
   "metadata": {},
   "source": [
    "Q4. Create a normal matrix A with dimensions 2x2, using TensorFlow's random_normal function. Display the\n",
    "values of matrix A."
   ]
  },
  {
   "cell_type": "markdown",
   "id": "b4381c72-4493-4475-b743-8a75da3195a3",
   "metadata": {},
   "source": [
    "You can create a 2x2 matrix filled with random values sampled from a normal distribution using TensorFlow's random_normal function. Here's how you can do it:"
   ]
  },
  {
   "cell_type": "code",
   "execution_count": 17,
   "id": "0db786c6-651d-4fda-ad2e-f5729ef58da6",
   "metadata": {},
   "outputs": [
    {
     "name": "stdout",
     "output_type": "stream",
     "text": [
      "Matrix A:\n",
      "[[-1.2988142   0.96485186]\n",
      " [-0.6210374  -0.30632767]]\n"
     ]
    }
   ],
   "source": [
    "import tensorflow as tf\n",
    "\n",
    "A = tf.random.normal(shape=(2, 2))\n",
    "\n",
    "# Display the values of matrix A\n",
    "print(\"Matrix A:\")\n",
    "print(A.numpy())"
   ]
  },
  {
   "cell_type": "markdown",
   "id": "8d2e2164-69b2-47b2-8bf0-26fb2ab16b15",
   "metadata": {},
   "source": [
    "Q5.  Create a Gaussian matrix B with dimensions 4x4, using TensorFlow's truncated_normal function. Display\n",
    "the values of matrix B."
   ]
  },
  {
   "cell_type": "code",
   "execution_count": 19,
   "id": "d18c5cc5-f2ca-4411-81ee-efc129cc4b94",
   "metadata": {},
   "outputs": [
    {
     "name": "stdout",
     "output_type": "stream",
     "text": [
      "Matrix B:\n",
      "[[ 0.63417006 -0.04487928 -0.06367643  0.405178  ]\n",
      " [-0.9992977  -0.01467684 -1.6671125  -0.6552118 ]\n",
      " [-1.3436536  -1.0356776  -0.48698983 -1.1566871 ]\n",
      " [-1.3074182  -0.46538964  0.37651992 -0.08832136]]\n"
     ]
    }
   ],
   "source": [
    "\n",
    "B = tf.random.truncated_normal(shape=(4, 4), mean=0.0, stddev=1.0)\n",
    "\n",
    "# Display the values of matrix B\n",
    "print(\"Matrix B:\")\n",
    "print(B.numpy())"
   ]
  },
  {
   "cell_type": "markdown",
   "id": "64482e0c-0ad3-4aa9-b596-912c90455595",
   "metadata": {},
   "source": [
    "Q7. Create a matrix C with dimensions 2x2, where the values are drawn from a normal distribution with a\n",
    "mean of 2 and a standard deviation of 0.x, using TensorFlow's random.normal function. Display the values\n",
    "of matrix C."
   ]
  },
  {
   "cell_type": "code",
   "execution_count": 20,
   "id": "a9e6ba01-8b0f-4809-88cf-b282e44ea9cc",
   "metadata": {},
   "outputs": [
    {
     "name": "stdout",
     "output_type": "stream",
     "text": [
      "Matrix C:\n",
      "[[2.0001817 1.9349862]\n",
      " [1.8883615 1.8262433]]\n"
     ]
    }
   ],
   "source": [
    "import tensorflow as tf\n",
    "\n",
    "# Mean and standard deviation\n",
    "mean = 2\n",
    "stddev = 0.1  # Replace 0.x with the desired standard deviation\n",
    "\n",
    "# Create a 2x2 matrix with random values from a normal distribution\n",
    "C = tf.random.normal(shape=(2, 2), mean=mean, stddev=stddev)\n",
    "\n",
    "print(\"Matrix C:\")\n",
    "print(C.numpy())"
   ]
  },
  {
   "cell_type": "markdown",
   "id": "c71135ff-b2b6-41d6-870d-75943baf01dc",
   "metadata": {},
   "source": [
    "Q8. Perform matrix multiplication between matrix C and matrix D, and store the result in matrix E."
   ]
  },
  {
   "cell_type": "code",
   "execution_count": 25,
   "id": "2c861382-ca83-4a7b-a185-5bb224b12c56",
   "metadata": {},
   "outputs": [
    {
     "name": "stdout",
     "output_type": "stream",
     "text": [
      "Matrix E (Result of C * D):\n",
      "[[19 22]\n",
      " [43 50]]\n"
     ]
    }
   ],
   "source": [
    "import tensorflow as tf\n",
    "\n",
    "C = tf.constant([[1, 2], [3, 4]])\n",
    "D = tf.constant([[5,6], [7,8]])\n",
    "\n",
    "# Perform matrix multiplication between C and D\n",
    "E = tf.matmul(C,D)\n",
    "\n",
    "# Display the result matrix E\n",
    "print(\"Matrix E (Result of C * D):\")\n",
    "print(E.numpy())\n"
   ]
  },
  {
   "cell_type": "markdown",
   "id": "b97f1ad1-e1c4-4ba8-b075-f05ba3fce545",
   "metadata": {},
   "source": [
    "                            Task 3 : Performing Additional Matrix Operations"
   ]
  },
  {
   "cell_type": "markdown",
   "id": "998dfa1c-fbee-4bd6-b186-a8c5252734c4",
   "metadata": {},
   "source": [
    "Q9. Create a matrix F with dimensions 2x2, initialized with random values using TensorFlow's random_uniform functions"
   ]
  },
  {
   "cell_type": "code",
   "execution_count": 26,
   "id": "7859018f-9cf4-4e54-8067-8b0920c0088f",
   "metadata": {},
   "outputs": [
    {
     "name": "stdout",
     "output_type": "stream",
     "text": [
      "Matrix F:\n",
      "[[0.6474817  0.303285  ]\n",
      " [0.23031199 0.3978759 ]]\n"
     ]
    }
   ],
   "source": [
    "F = tf.random.uniform(shape=(2, 2))\n",
    "\n",
    "# Display the values of matrix F\n",
    "print(\"Matrix F:\")\n",
    "print(F.numpy())"
   ]
  },
  {
   "cell_type": "markdown",
   "id": "42938dcf-07e8-4648-98a6-0212c345c175",
   "metadata": {},
   "source": [
    "Q10.Calculate the transpose of matrix F and store the result in matrix G."
   ]
  },
  {
   "cell_type": "code",
   "execution_count": 28,
   "id": "f9042028-0429-446a-84e4-a025453a92db",
   "metadata": {},
   "outputs": [
    {
     "name": "stdout",
     "output_type": "stream",
     "text": [
      "Matrix G (Transpose of F):\n",
      "[[0.69479513 0.29988825]\n",
      " [0.9710561  0.37201095]]\n"
     ]
    }
   ],
   "source": [
    "F = tf.random.uniform(shape=(2, 2))\n",
    "\n",
    "G = tf.transpose(F)\n",
    "\n",
    "print(\"Matrix G (Transpose of F):\")\n",
    "print(G.numpy())"
   ]
  },
  {
   "cell_type": "markdown",
   "id": "b015b0d3-307d-460e-96bd-628df2d69066",
   "metadata": {},
   "source": [
    "Q11. Calculate the element-wise exponential of matrix F and store the result in matrix H."
   ]
  },
  {
   "cell_type": "code",
   "execution_count": 29,
   "id": "6f77ed43-4833-4684-a654-efcb0ad7be4b",
   "metadata": {},
   "outputs": [
    {
     "name": "stdout",
     "output_type": "stream",
     "text": [
      "Matrix H (Element-wise Exponential of F):\n",
      "[[2.270745  1.8846856]\n",
      " [1.2123849 1.3232839]]\n"
     ]
    }
   ],
   "source": [
    "F = tf.random.uniform(shape=(2, 2))\n",
    "\n",
    "H = tf.math.exp(F)\n",
    "\n",
    "print(\"Matrix H (Element-wise Exponential of F):\")\n",
    "print(H.numpy())"
   ]
  },
  {
   "cell_type": "markdown",
   "id": "7c372f25-2e77-4386-bbeb-3b7248ad211b",
   "metadata": {},
   "source": [
    "Q12. Create a matrix I by concatenating matrix F and matrix G horizontally."
   ]
  },
  {
   "cell_type": "code",
   "execution_count": 31,
   "id": "e2d22c33-bb96-405b-bc74-5d63acd4d88b",
   "metadata": {},
   "outputs": [
    {
     "name": "stdout",
     "output_type": "stream",
     "text": [
      "Matrix I (Concatenation of F and G horizontally):\n",
      "[[0.01173019 0.5619614  0.01173019 0.36739957]\n",
      " [0.36739957 0.25989282 0.5619614  0.25989282]]\n"
     ]
    }
   ],
   "source": [
    "F = tf.random.uniform(shape=(2, 2))\n",
    "G = tf.transpose(F)\n",
    "\n",
    "# Concatenate matrices F and G horizontally\n",
    "I = tf.concat([F, G], axis=1)\n",
    "\n",
    "print(\"Matrix I (Concatenation of F and G horizontally):\")\n",
    "print(I.numpy())"
   ]
  },
  {
   "cell_type": "code",
   "execution_count": null,
   "id": "d9d8c32b-886b-450b-8f33-2e65da14777b",
   "metadata": {},
   "outputs": [],
   "source": [
    "Q13.Create a matrix J by concatenating matrix F and matrix H vertically."
   ]
  },
  {
   "cell_type": "code",
   "execution_count": 32,
   "id": "e6613dcd-bda1-4c38-a778-c1389f3d3b05",
   "metadata": {},
   "outputs": [
    {
     "ename": "NameError",
     "evalue": "name 'J' is not defined",
     "output_type": "error",
     "traceback": [
      "\u001b[0;31m---------------------------------------------------------------------------\u001b[0m",
      "\u001b[0;31mNameError\u001b[0m                                 Traceback (most recent call last)",
      "Cell \u001b[0;32mIn[32], line 2\u001b[0m\n\u001b[1;32m      1\u001b[0m F \u001b[38;5;241m=\u001b[39m tf\u001b[38;5;241m.\u001b[39mrandom\u001b[38;5;241m.\u001b[39muniform(shape\u001b[38;5;241m=\u001b[39m(\u001b[38;5;241m2\u001b[39m, \u001b[38;5;241m2\u001b[39m))\n\u001b[0;32m----> 2\u001b[0m H \u001b[38;5;241m=\u001b[39m tf\u001b[38;5;241m.\u001b[39mtranspose(\u001b[43mJ\u001b[49m)\n\u001b[1;32m      4\u001b[0m \u001b[38;5;66;03m# Concatenate matrices F and G horizontally\u001b[39;00m\n\u001b[1;32m      5\u001b[0m I \u001b[38;5;241m=\u001b[39m tf\u001b[38;5;241m.\u001b[39mconcat([F, H], axis\u001b[38;5;241m=\u001b[39m\u001b[38;5;241m1\u001b[39m)\n",
      "\u001b[0;31mNameError\u001b[0m: name 'J' is not defined"
     ]
    }
   ],
   "source": [
    "F = tf.random.uniform(shape=(2, 2))\n",
    "H = tf.transpose(J)\n",
    "\n",
    "# Concatenate matrices F and G horizontally\n",
    "I = tf.concat([F, H], axis=1)\n",
    "\n",
    "print(\"Matrix I (Concatenation of F and G vertically):\")\n",
    "print(I.numpy())"
   ]
  },
  {
   "cell_type": "code",
   "execution_count": null,
   "id": "1093a11d-ba2b-4006-8931-dd271ed24ce5",
   "metadata": {},
   "outputs": [],
   "source": []
  }
 ],
 "metadata": {
  "kernelspec": {
   "display_name": "Python 3 (ipykernel)",
   "language": "python",
   "name": "python3"
  },
  "language_info": {
   "codemirror_mode": {
    "name": "ipython",
    "version": 3
   },
   "file_extension": ".py",
   "mimetype": "text/x-python",
   "name": "python",
   "nbconvert_exporter": "python",
   "pygments_lexer": "ipython3",
   "version": "3.10.8"
  }
 },
 "nbformat": 4,
 "nbformat_minor": 5
}
